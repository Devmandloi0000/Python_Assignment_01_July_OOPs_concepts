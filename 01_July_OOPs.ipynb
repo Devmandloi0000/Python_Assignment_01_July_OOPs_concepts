{
 "cells": [
  {
   "cell_type": "markdown",
   "id": "18b2597c",
   "metadata": {},
   "source": [
    "# 01_July_OOPs_concepts"
   ]
  },
  {
   "cell_type": "code",
   "execution_count": null,
   "id": "8e590673",
   "metadata": {},
   "outputs": [],
   "source": [
    "1. What is the primary goal of Object-Oriented Programming (OOP)?\n",
    "2. What is an object in Python?\n",
    "3. What is a class in Python?\n",
    "4. What are attributes and methods in a class?\n",
    "5. What is the difference between class variables and instance variables in Python?\n",
    "6. What is the purpose of the self parameter in Python class methods?\n",
    "7. For a library management system, you have to design the \"Book\" class with OOP\n",
    "principles in mind. The “Book” class will have following attributes:\n",
    "a. title: Represents the title of the book.\n",
    "b. author: Represents the author(s) of the book.\n",
    "c. isbn: Represents the ISBN (International Standard Book Number) of the book.\n",
    "d. publication_year: Represents the year of publication of the book.\n",
    "e. available_copies: Represents the number of copies available for checkout.\n",
    "The class will also include the following methods:\n",
    "a. check_out(self): Decrements the available copies by one if there are copies\n",
    "available for checkout.\n",
    "b. return_book(self): Increments the available copies by one when a book is\n",
    "returned.\n",
    "c. display_book_info(self): Displays the information about the book, including its\n",
    "attributes and the number of available copies.\n",
    "8. For a ticket booking system, you have to design the \"Ticket\" class with OOP\n",
    "principles in mind. The “Ticket” class should have the following attributes:\n",
    "a. ticket_id: Represents the unique identifier for the ticket.\n",
    "b. event_name: Represents the name of the event.\n",
    "c. event_date: Represents the date of the event.\n",
    "d. venue: Represents the venue of the event.\n",
    "e. seat_number: Represents the seat number associated with the ticket.\n",
    "f. price: Represents the price of the ticket.\n",
    "g. is_reserved: Represents the reservation status of the ticket.\n",
    "The class also includes the following methods:\n",
    "a. reserve_ticket(self): Marks the ticket as reserved if it is not already reserved.\n",
    "b. cancel_reservation(self): Cancels the reservation of the ticket if it is already\n",
    "reserved.\n",
    "c. display_ticket_info(self): Displays the information about the ticket, including its\n",
    "attributes and reservation status.\n",
    "9. You are creating a shopping cart for an e-commerce website. Using OOP to model\n",
    "the \"ShoppingCart\" functionality the class should contain following attributes and\n",
    "methods:\n",
    "a. items: Represents the list of items in the shopping cart.\n",
    "The class also includes the following methods:\n",
    "a. add_item(self, item): Adds an item to the shopping cart by appending it to the\n",
    "list of items.\n",
    "b. remove_item(self, item): Removes an item from the shopping cart if it exists in\n",
    "the list.\n",
    "c. view_cart(self): Displays the items currently present in the shopping cart.\n",
    "d. clear_cart(self): Clears all items from the shopping cart by reassigning an\n",
    "empty list to the items attribute.\n",
    "10. Imagine a school management system. You have to design the \"Student\" class using\n",
    "OOP concepts.The “Student” class has the following attributes:\n",
    "a. name: Represents the name of the student.\n",
    "b. age: Represents the age of the student.\n",
    "c. grade: Represents the grade or class of the student.\n",
    "d. student_id: Represents the unique identifier for the student.\n",
    "e. attendance: Represents the attendance record of the student.\n",
    "The class should also include the following methods:\n",
    "a. update_attendance(self, date, status): Updates the attendance record of the\n",
    "student for a given date with the provided status (e.g., present or absent).\n",
    "b. get_attendance(self): Returns the attendance record of the student.\n",
    "c. get_average_attendance(self): Calculates and returns the average\n",
    "attendance percentage of the student based on their attendance record."
   ]
  },
  {
   "cell_type": "markdown",
   "id": "db43f9ed",
   "metadata": {},
   "source": [
    "# QUE(1)"
   ]
  },
  {
   "cell_type": "markdown",
   "id": "97e9053e",
   "metadata": {},
   "source": [
    "1. What is the primary goal of Object-Oriented Programming (OOP)?"
   ]
  },
  {
   "cell_type": "markdown",
   "id": "0f6efa28",
   "metadata": {},
   "source": [
    "solution \n",
    "         \n",
    "         :- Object-Oriented Programming main goal is to make a simple and nit and clean programm to understand ,\n",
    "\n",
    "         :- To hold entire data into a single object such that it would be easy to pass this to other methods and objects,\n",
    "         \n",
    "         :- It is used to build for reusable purpose"
   ]
  },
  {
   "cell_type": "markdown",
   "id": "63f155e5",
   "metadata": {},
   "source": [
    "# QUE(2)"
   ]
  },
  {
   "cell_type": "markdown",
   "id": "74fab72a",
   "metadata": {},
   "source": [
    "2. What is an object in Python"
   ]
  },
  {
   "cell_type": "markdown",
   "id": "1409b278",
   "metadata": {},
   "source": [
    "solution :-  object is an instance of the class or object is the instance of the methods "
   ]
  },
  {
   "cell_type": "markdown",
   "id": "30827d01",
   "metadata": {},
   "source": [
    "# QUE(3)"
   ]
  },
  {
   "cell_type": "markdown",
   "id": "ed6b42c7",
   "metadata": {},
   "source": [
    "3. What is a class in Python?"
   ]
  },
  {
   "cell_type": "markdown",
   "id": "12d13339",
   "metadata": {},
   "source": [
    "solution \n",
    "\n",
    "        :- Class in the python is used for reusablitiy purpose or we can once create a class and use it us we can \n",
    "        \n",
    "        :- class is an attributes of methods and objects\n",
    "        \n",
    "        :- class is made up of many methods or function \n",
    "        \n",
    "        :- we can create a multiple object for the single class "
   ]
  },
  {
   "cell_type": "markdown",
   "id": "4ed04ffd",
   "metadata": {},
   "source": [
    "# QUE(4)\n"
   ]
  },
  {
   "cell_type": "markdown",
   "id": "2cf4b1dc",
   "metadata": {},
   "source": [
    "4. What are attributes and methods in a class?"
   ]
  },
  {
   "cell_type": "markdown",
   "id": "4892a99b",
   "metadata": {},
   "source": [
    "solution :- \n",
    "    \n",
    "        Attributes :- are the properties of the class object which specify the information \n",
    "        \n",
    "        methods :- Methods are the function inside a class and by the combination of methods are called the class \n",
    "                   the attribute are proccessed by the methods define in the class"
   ]
  },
  {
   "cell_type": "markdown",
   "id": "316164dd",
   "metadata": {},
   "source": [
    "#  QUE(5)"
   ]
  },
  {
   "cell_type": "markdown",
   "id": "a65b7feb",
   "metadata": {},
   "source": [
    "5. What is the difference between class variables and instance variables in Python?"
   ]
  },
  {
   "cell_type": "markdown",
   "id": "c59372ce",
   "metadata": {},
   "source": [
    " solution :-\n",
    "            \n",
    "            class variable are define outside the method \n",
    "            \n",
    "            instance variable are define inside the methods "
   ]
  },
  {
   "cell_type": "markdown",
   "id": "cfabeb4c",
   "metadata": {},
   "source": [
    "# QUE(6)"
   ]
  },
  {
   "cell_type": "markdown",
   "id": "810f864e",
   "metadata": {},
   "source": [
    "6. What is the purpose of the self parameter in Python class methods?"
   ]
  },
  {
   "cell_type": "markdown",
   "id": "ad2c3e30",
   "metadata": {},
   "source": [
    "solution :- self is used class for pointer "
   ]
  },
  {
   "cell_type": "markdown",
   "id": "d669a319",
   "metadata": {},
   "source": [
    "# QUE(7)"
   ]
  },
  {
   "cell_type": "markdown",
   "id": "d2da14f9",
   "metadata": {},
   "source": [
    "7. For a library management system, you have to design the \"Book\" class with OOP\n",
    "principles in mind. The “Book” class will have following attributes:\n",
    "a. title: Represents the title of the book.\n",
    "b. author: Represents the author(s) of the book.\n",
    "c. isbn: Represents the ISBN (International Standard Book Number) of the book.\n",
    "d. publication_year: Represents the year of publication of the book.\n",
    "e. available_copies: Represents the number of copies available for checkout.\n",
    "The class will also include the following methods:\n",
    "a. check_out(self): Decrements the available copies by one if there are copies\n",
    "available for checkout.\n",
    "b. return_book(self): Increments the available copies by one when a book is\n",
    "returned.\n",
    "c. display_book_info(self): Displays the information about the book, including its\n",
    "attributes and the number of available copies."
   ]
  },
  {
   "cell_type": "code",
   "execution_count": 255,
   "id": "ceeb2c40",
   "metadata": {},
   "outputs": [],
   "source": [
    "class Books:\n",
    "    \n",
    "    def __init__(self,b_name,b_author,b_isnb,b_year,quantity):\n",
    "        self.b_name = b_name\n",
    "        self.b_author = b_author\n",
    "        self.b_isnb = b_isnb\n",
    "        self.b_year = b_year\n",
    "        self.quantity = quantity\n",
    "        self.col = []\n",
    "        \n",
    "    def collection(self):\n",
    "        self.mylist = [self.b_name,self.b_author,self.b_isnb,self.b_year,self.quantity]\n",
    "        self.col.append(self.mylist)\n",
    "        #print(self.col)\n",
    "        for i in self.col:\n",
    "            print(i)\n",
    "    \n",
    "            \n",
    "    def add_book(self,a_book,a_author=\"NIL\",a_isnb=\"NIL\",a_year=\"NIL\", a_quantity=0):\n",
    "        self.a_book= a_book\n",
    "        self.a_author = a_author\n",
    "        self.a_isnb = a_isnb\n",
    "        self.a_year = a_year\n",
    "        self.a_quantity = a_quantity\n",
    "        self.col_list = [self.a_book,self.a_author,self.a_isnb,self.a_year,self.a_quantity]\n",
    "        \n",
    "        self.col.append(self.col_list)\n",
    "        #print(self.col)\n",
    "        for i in self.col:\n",
    "            print(i)\n",
    "        \n",
    "        \n",
    "    def search(self,book_name):\n",
    "        self.book_name = book_name\n",
    "        for i in self.col:\n",
    "            #print(i)\n",
    "            if type(i) == list:\n",
    "                for j in i:\n",
    "                    #print(j)\n",
    "                    if self.book_name == j:\n",
    "                        print(f\"a {j} book is available\")\n",
    "                        print(i)\n",
    "                        #break\n",
    "                    else :\n",
    "                        print(\"no book is available\")\n",
    "                        "
   ]
  },
  {
   "cell_type": "code",
   "execution_count": 248,
   "id": "0fa2b06e",
   "metadata": {},
   "outputs": [],
   "source": [
    "d = Books(\"physics\",\"JSsharma\",\"JS123456789\",2023,10)"
   ]
  },
  {
   "cell_type": "code",
   "execution_count": 249,
   "id": "1f283346",
   "metadata": {},
   "outputs": [
    {
     "name": "stdout",
     "output_type": "stream",
     "text": [
      "['physics', 'JSsharma', 'JS123456789', 2023, 10]\n"
     ]
    }
   ],
   "source": [
    "d.collection()"
   ]
  },
  {
   "cell_type": "code",
   "execution_count": 250,
   "id": "e85dcc8f",
   "metadata": {},
   "outputs": [
    {
     "name": "stdout",
     "output_type": "stream",
     "text": [
      "no book is available\n",
      "no book is available\n",
      "no book is available\n",
      "a 2023 book is available\n",
      "['physics', 'JSsharma', 'JS123456789', 2023, 10]\n",
      "no book is available\n"
     ]
    }
   ],
   "source": [
    "d.search(2023)"
   ]
  },
  {
   "cell_type": "code",
   "execution_count": 251,
   "id": "57e02efa",
   "metadata": {},
   "outputs": [
    {
     "name": "stdout",
     "output_type": "stream",
     "text": [
      "[2023, 10, 'physics', 'JS123456789', 'JSsharma']\n",
      "['KKmenon', 0, 'biology', 'NIL']\n"
     ]
    }
   ],
   "source": [
    "d.add_book(\"biology\",\"KKmenon\")"
   ]
  },
  {
   "cell_type": "code",
   "execution_count": 252,
   "id": "874d6d25",
   "metadata": {},
   "outputs": [
    {
     "name": "stdout",
     "output_type": "stream",
     "text": [
      "['physics', 'JSsharma', 'JS123456789', 2023, 10]\n",
      "['biology', 'KKmenon', 'NIL', 'NIL', 0]\n",
      "['physics', 'JSsharma', 'JS123456789', 2023, 10]\n"
     ]
    }
   ],
   "source": [
    "d.collection()"
   ]
  },
  {
   "cell_type": "code",
   "execution_count": 253,
   "id": "9f373cbe",
   "metadata": {},
   "outputs": [
    {
     "name": "stdout",
     "output_type": "stream",
     "text": [
      "a physics book is available\n",
      "['physics', 'JSsharma', 'JS123456789', 2023, 10]\n",
      "no book is available\n",
      "no book is available\n",
      "no book is available\n",
      "no book is available\n",
      "no book is available\n",
      "no book is available\n",
      "no book is available\n",
      "no book is available\n",
      "no book is available\n",
      "a physics book is available\n",
      "['physics', 'JSsharma', 'JS123456789', 2023, 10]\n",
      "no book is available\n",
      "no book is available\n",
      "no book is available\n",
      "no book is available\n"
     ]
    }
   ],
   "source": [
    "d.search(\"physics\")"
   ]
  },
  {
   "cell_type": "code",
   "execution_count": 254,
   "id": "9b021745",
   "metadata": {},
   "outputs": [
    {
     "name": "stdout",
     "output_type": "stream",
     "text": [
      "['physics', 'JSsharma', 'JS123456789', 2023, 10]\n",
      "['biology', 'KKmenon', 'NIL', 'NIL', 0]\n",
      "['physics', 'JSsharma', 'JS123456789', 2023, 10]\n",
      "['physics', 'JSsharma', 'JS123456789', 2023, 10]\n"
     ]
    }
   ],
   "source": [
    "d.collection()"
   ]
  },
  {
   "cell_type": "code",
   "execution_count": 246,
   "id": "f3997191",
   "metadata": {},
   "outputs": [
    {
     "name": "stdout",
     "output_type": "stream",
     "text": [
      "['physics', 'JSsharma', 'JS123456789', 2023, 10]\n",
      "['biology', 'KKmenon', 'NIL', 'NIL', 0]\n",
      "['physics', 'JSsharma', 'JS123456789', 2023, 10]\n",
      "['physics', 'JSsharma', 'JS123456789', 2023, 10]\n",
      "['math', 'rbgupta', 'NIL', 'NIL', 0]\n"
     ]
    }
   ],
   "source": [
    "d.add_book(\"math\",\"rbgupta\",)"
   ]
  },
  {
   "cell_type": "code",
   "execution_count": 237,
   "id": "95bbea59",
   "metadata": {},
   "outputs": [
    {
     "name": "stdout",
     "output_type": "stream",
     "text": [
      "no book is available\n",
      "no book is available\n",
      "no book is available\n",
      "a 2023 book is available\n",
      "['physics', 'JSsharma', 'JS123456789', 2023, 10]\n",
      "no book is available\n",
      "no book is available\n",
      "no book is available\n",
      "no book is available\n",
      "no book is available\n",
      "no book is available\n",
      "no book is available\n",
      "no book is available\n",
      "no book is available\n",
      "a 2023 book is available\n",
      "['physics', 'JSsharma', 'JS123456789', 2023, 10]\n",
      "no book is available\n",
      "no book is available\n",
      "no book is available\n",
      "no book is available\n",
      "a 2023 book is available\n",
      "['physics', 'JSsharma', 'JS123456789', 2023, 10]\n",
      "no book is available\n",
      "no book is available\n",
      "no book is available\n",
      "no book is available\n",
      "no book is available\n",
      "no book is available\n"
     ]
    }
   ],
   "source": [
    "d.search(2023)"
   ]
  },
  {
   "cell_type": "markdown",
   "id": "5f1096d9",
   "metadata": {},
   "source": [
    "# QUE(8)"
   ]
  },
  {
   "cell_type": "code",
   "execution_count": null,
   "id": "67762cae",
   "metadata": {},
   "outputs": [],
   "source": [
    "8. For a ticket booking system, you have to design the \"Ticket\" class with OOP\n",
    "principles in mind. The “Ticket” class should have the following attributes:\n",
    "a. ticket_id: Represents the unique identifier for the ticket.\n",
    "b. event_name: Represents the name of the event.\n",
    "c. event_date: Represents the date of the event.\n",
    "d. venue: Represents the venue of the event.\n",
    "e. seat_number: Represents the seat number associated with the ticket.\n",
    "f. price: Represents the price of the ticket.\n",
    "g. is_reserved: Represents the reservation status of the ticket.\n",
    "The class also includes the following methods:\n",
    "a. reserve_ticket(self): Marks the ticket as reserved if it is not already reserved.\n",
    "b. cancel_reservation(self): Cancels the reservation of the ticket if it is already\n",
    "reserved.\n",
    "c. display_ticket_info(self): Displays the information about the ticket, including its\n",
    "attributes and reservation status."
   ]
  },
  {
   "cell_type": "code",
   "execution_count": 148,
   "id": "6a7ce67b",
   "metadata": {},
   "outputs": [],
   "source": [
    "class Ticket:\n",
    "    \n",
    "    def __init__(self,occasssion):\n",
    "        self.occasssion = occasssion\n",
    "        self.event_name = \"diwali\"\n",
    "        self.venue = \"mahaaarti\"\n",
    "        self.event_date = \"20/aug/2023\"\n",
    "        self.seat_number = 0\n",
    "        self.total_seat = 30\n",
    "        self.price = 500\n",
    "        self.is_reserved = \"yes\"\n",
    "        \n",
    "        \n",
    "    def info(self,name,person):\n",
    "        self.name = name\n",
    "        self.person = person \n",
    "        #rint(f\"{self.seat_number} is available\")\n",
    "        print(\"wait for minute to check the availablity and confirmation\")\n",
    "        \n",
    "        \n",
    "    def availabilites(self):\n",
    "        try:\n",
    "            self.seat_number = self.seat_number +self.person\n",
    "            if self.total_seat >=self.seat_number:\n",
    "                print(\"-\"*30)\n",
    "                #rint(f\"only seat {self.seat_number} is remain\")\n",
    "                print(f\"your seat has reserved\")\n",
    "                print(\"-\"*30)\n",
    "                print(f\"dear {self.name} event name {self.event_name} will be held on {self.event_date}\")\n",
    "                print(\"-\"*30)\n",
    "                print(f\"price : {500*self.person}\")\n",
    "                print(\"-\"*30)\n",
    "                print(self.person)\n",
    "                self.seat_id = self.name[0:3]+self.event_name[0:3]\n",
    "                self.mylist = [[self.name,self.person, self.seat_id]]\n",
    "                print(self.mylist)\n",
    "                #s += self.seat_number\n",
    "            else:\n",
    "                print(\"no seat is available \")\n",
    "                \n",
    "        except Exception as e:\n",
    "            print(e)\n"
   ]
  },
  {
   "cell_type": "code",
   "execution_count": null,
   "id": "9fdea115",
   "metadata": {},
   "outputs": [],
   "source": []
  },
  {
   "cell_type": "code",
   "execution_count": 149,
   "id": "855cf3ab",
   "metadata": {},
   "outputs": [],
   "source": [
    "t = Ticket(\"maharati\")"
   ]
  },
  {
   "cell_type": "code",
   "execution_count": 150,
   "id": "e2ec6727",
   "metadata": {},
   "outputs": [
    {
     "name": "stdout",
     "output_type": "stream",
     "text": [
      "wait for minute to check the availablity and confirmation\n"
     ]
    }
   ],
   "source": [
    "t.info('dev',4)"
   ]
  },
  {
   "cell_type": "code",
   "execution_count": 151,
   "id": "02f77f20",
   "metadata": {},
   "outputs": [
    {
     "name": "stdout",
     "output_type": "stream",
     "text": [
      "------------------------------\n",
      "your seat has reserved\n",
      "------------------------------\n",
      "dear dev event name diwali will be held on 20/aug/2023\n",
      "------------------------------\n",
      "price : 2000\n",
      "------------------------------\n",
      "4\n",
      "[['dev', 4, 'devdiw']]\n"
     ]
    }
   ],
   "source": [
    "t.availabilites()"
   ]
  },
  {
   "cell_type": "code",
   "execution_count": 152,
   "id": "b24500bb",
   "metadata": {},
   "outputs": [
    {
     "name": "stdout",
     "output_type": "stream",
     "text": [
      "wait for minute to check the availablity and confirmation\n"
     ]
    }
   ],
   "source": [
    "t.info(\"ram\",20)"
   ]
  },
  {
   "cell_type": "code",
   "execution_count": 153,
   "id": "c424b4d1",
   "metadata": {},
   "outputs": [
    {
     "name": "stdout",
     "output_type": "stream",
     "text": [
      "------------------------------\n",
      "your seat has reserved\n",
      "------------------------------\n",
      "dear ram event name diwali will be held on 20/aug/2023\n",
      "------------------------------\n",
      "price : 10000\n",
      "------------------------------\n",
      "20\n",
      "[['ram', 20, 'ramdiw']]\n"
     ]
    }
   ],
   "source": [
    "t.availabilites()"
   ]
  },
  {
   "cell_type": "code",
   "execution_count": 154,
   "id": "2b9403f0",
   "metadata": {},
   "outputs": [
    {
     "name": "stdout",
     "output_type": "stream",
     "text": [
      "wait for minute to check the availablity and confirmation\n"
     ]
    }
   ],
   "source": [
    "t.info('shyam', 6)"
   ]
  },
  {
   "cell_type": "code",
   "execution_count": 155,
   "id": "570c0c54",
   "metadata": {},
   "outputs": [
    {
     "name": "stdout",
     "output_type": "stream",
     "text": [
      "------------------------------\n",
      "your seat has reserved\n",
      "------------------------------\n",
      "dear shyam event name diwali will be held on 20/aug/2023\n",
      "------------------------------\n",
      "price : 3000\n",
      "------------------------------\n",
      "6\n",
      "[['shyam', 6, 'shydiw']]\n"
     ]
    }
   ],
   "source": [
    "t.availabilites()"
   ]
  },
  {
   "cell_type": "code",
   "execution_count": 146,
   "id": "2325c8cf",
   "metadata": {},
   "outputs": [
    {
     "name": "stdout",
     "output_type": "stream",
     "text": [
      "wait for minute to check the availablity and confirmation\n"
     ]
    }
   ],
   "source": [
    "t.info(\"prem\",3)"
   ]
  },
  {
   "cell_type": "code",
   "execution_count": 147,
   "id": "d61fb03a",
   "metadata": {},
   "outputs": [
    {
     "name": "stdout",
     "output_type": "stream",
     "text": [
      "no seat is available \n"
     ]
    }
   ],
   "source": [
    "t.availabilites()"
   ]
  },
  {
   "cell_type": "markdown",
   "id": "ef018ccd",
   "metadata": {},
   "source": [
    "#  QUE(9)"
   ]
  },
  {
   "cell_type": "code",
   "execution_count": null,
   "id": "588314f2",
   "metadata": {},
   "outputs": [],
   "source": [
    "9. You are creating a shopping cart for an e-commerce website. Using OOP to model\n",
    "the \"ShoppingCart\" functionality the class should contain following attributes and\n",
    "methods:\n",
    "a. items: Represents the list of items in the shopping cart.\n",
    "The class also includes the following methods:\n",
    "a. add_item(self, item): Adds an item to the shopping cart by appending it to the\n",
    "list of items.\n",
    "b. remove_item(self, item): Removes an item from the shopping cart if it exists in\n",
    "the list.\n",
    "c. view_cart(self): Displays the items currently present in the shopping cart.\n",
    "d. clear_cart(self): Clears all items from the shopping cart by reassigning an\n",
    "empty list to the items attribute."
   ]
  },
  {
   "cell_type": "code",
   "execution_count": 296,
   "id": "fe7fa62e",
   "metadata": {},
   "outputs": [],
   "source": [
    "mylist = ['mobile','cover','charger','oven','handfree']\n",
    "\n",
    "\n",
    "class ShoppingCart:\n",
    "    \n",
    "    def items(self,no_item):\n",
    "        self.no_item = no_item\n",
    "        #self.mylist = []\n",
    "        #self.mylist.append(self.no_item)\n",
    "        print(self.no_item)\n",
    "    \n",
    "    def add_items(self,add):\n",
    "        self.add = add\n",
    "        self.no_item.extend(self.add)\n",
    "        print(self.no_item)\n",
    "        \n",
    "        \n",
    "    def confirm_items(self):\n",
    "        for i in self.no_item:\n",
    "            print(i)\n",
    "            \n",
    "        \n",
    "    def remove_items(self,item_remove):\n",
    "        self.item_remove = item_remove\n",
    "        self.no_item.remove(self.item_remove)\n",
    "        print(self.no_item)\n",
    "        \n",
    "    def complete_bill(self,confirmation):\n",
    "        #a = input(\"enter confirmation yes/no\")\n",
    "        self.confirmation = confirmation\n",
    "        if self.confirmation == 'yes' or self.confirmation == \"YES\" or self.confirmation == 'Yes':\n",
    "            self.no_item.clear()\n",
    "            print('thanks for shopping ')\n",
    "        else:\n",
    "            print(\"please complete billing process\")\n",
    "            print(\"visit again\")"
   ]
  },
  {
   "cell_type": "code",
   "execution_count": 304,
   "id": "cbb3fecd",
   "metadata": {},
   "outputs": [],
   "source": [
    "s = ShoppingCart()"
   ]
  },
  {
   "cell_type": "code",
   "execution_count": 305,
   "id": "4d437bf0",
   "metadata": {},
   "outputs": [
    {
     "name": "stdout",
     "output_type": "stream",
     "text": [
      "['mobile', 'cover', 'charger', 'oven', 'handfree']\n"
     ]
    }
   ],
   "source": [
    "s.items(['mobile','cover','charger','oven','handfree'])"
   ]
  },
  {
   "cell_type": "code",
   "execution_count": 306,
   "id": "5b57bdd1",
   "metadata": {},
   "outputs": [
    {
     "name": "stdout",
     "output_type": "stream",
     "text": [
      "['mobile', 'cover', 'charger', 'oven', 'handfree', 'salt', 'chai', 'sugar', 'mobile']\n"
     ]
    }
   ],
   "source": [
    "s.add_items(['salt',\"chai\",\"sugar\",\"mobile\"])"
   ]
  },
  {
   "cell_type": "code",
   "execution_count": 307,
   "id": "eb506ff5",
   "metadata": {},
   "outputs": [
    {
     "name": "stdout",
     "output_type": "stream",
     "text": [
      "['cover', 'charger', 'oven', 'handfree', 'salt', 'chai', 'sugar', 'mobile']\n"
     ]
    }
   ],
   "source": [
    "s.remove_items(\"mobile\")"
   ]
  },
  {
   "cell_type": "code",
   "execution_count": 308,
   "id": "0fc356b1",
   "metadata": {},
   "outputs": [
    {
     "name": "stdout",
     "output_type": "stream",
     "text": [
      "['cover', 'charger', 'oven', 'salt', 'chai', 'sugar', 'mobile']\n"
     ]
    }
   ],
   "source": [
    "s.remove_items(\"handfree\")"
   ]
  },
  {
   "cell_type": "code",
   "execution_count": 309,
   "id": "d1bdb926",
   "metadata": {},
   "outputs": [
    {
     "name": "stdout",
     "output_type": "stream",
     "text": [
      "please complete billing process\n",
      "visit again\n"
     ]
    }
   ],
   "source": [
    "s.complete_bill(\"no\")"
   ]
  },
  {
   "cell_type": "code",
   "execution_count": 310,
   "id": "9bb6e556",
   "metadata": {},
   "outputs": [
    {
     "name": "stdout",
     "output_type": "stream",
     "text": [
      "cover\n",
      "charger\n",
      "oven\n",
      "salt\n",
      "chai\n",
      "sugar\n",
      "mobile\n"
     ]
    }
   ],
   "source": [
    "s.confirm_items()"
   ]
  },
  {
   "cell_type": "code",
   "execution_count": 311,
   "id": "32f5fe16",
   "metadata": {},
   "outputs": [
    {
     "name": "stdout",
     "output_type": "stream",
     "text": [
      "thanks for shopping \n"
     ]
    }
   ],
   "source": [
    "s.complete_bill(\"yes\")"
   ]
  },
  {
   "cell_type": "code",
   "execution_count": 312,
   "id": "63a7027f",
   "metadata": {},
   "outputs": [],
   "source": [
    "s.confirm_items()"
   ]
  },
  {
   "cell_type": "markdown",
   "id": "1a7fce88",
   "metadata": {},
   "source": [
    "# QUE(10)"
   ]
  },
  {
   "cell_type": "code",
   "execution_count": null,
   "id": "8f2656c8",
   "metadata": {},
   "outputs": [],
   "source": [
    "10. Imagine a school management system. You have to design the \"Student\" class using\n",
    "OOP concepts.The “Student” class has the following attributes:\n",
    "a. name: Represents the name of the student.\n",
    "b. age: Represents the age of the student.\n",
    "c. grade: Represents the grade or class of the student.\n",
    "d. student_id: Represents the unique identifier for the student.\n",
    "e. attendance: Represents the attendance record of the student.\n",
    "The class should also include the following methods:\n",
    "a. update_attendance(self, date, status): Updates the attendance record of the\n",
    "student for a given date with the provided status (e.g., present or absent).\n",
    "b. get_attendance(self): Returns the attendance record of the student.\n",
    "c. get_average_attendance(self): Calculates and returns the average\n",
    "attendance percentage of the student based on their attendance record."
   ]
  },
  {
   "cell_type": "code",
   "execution_count": 426,
   "id": "f2622f66",
   "metadata": {},
   "outputs": [],
   "source": [
    "import logging as lg\n",
    "\n",
    "lg.basicConfig(filename=\"student.log\",level=lg.DEBUG, format=(\"%(asctime)s : %(message)s : %(levelname)s\"))\n",
    "\n",
    "class Student:\n",
    "    \n",
    "    def __init__(self,s_name,f_name,percentage = 0,s_class = \"nursary\"):\n",
    "        self.s_name = s_name\n",
    "        self.s_class =  s_class\n",
    "        self.f_name = f_name\n",
    "        self.percentage = percentage\n",
    "        lg.info(\"student confirmation is complete \")\n",
    "        \n",
    "        \n",
    "    def addmission(self,age,dob,grade,contact,previous_class):\n",
    "        self.age = age\n",
    "        self.dob = dob\n",
    "        self.grade = grade\n",
    "        self.contact = contact\n",
    "        self.previous_class = previous_class\n",
    "        lg.info(\"student addmission details is complete\")\n",
    "        print(\"all the details of the student is :- \")\n",
    "        print(\"-\"*50)\n",
    "        print(f\"name ot the student is :- {self.s_name}\")\n",
    "        print(f\"father name :- {self.f_name}\")\n",
    "        print(\"-\"*50)\n",
    "        print(f\"previous background of the student is :-\")\n",
    "        print(f\"previous class :- {self.s_class}\" )\n",
    "        print(f\"current class will be :- {self.s_class + 1}\" )\n",
    "        print(f\"grade of the student :- {self.grade}\")\n",
    "        print(f\"percentage of previous class :- {self.percentage}\")\n",
    "        print(\"-\"*50)\n",
    "        print(\"detail of the student is :- \")\n",
    "        print(f\"age of the student is :- {self.age}\")\n",
    "        print(f\"date of the birth is :- {self.dob}\")\n",
    "        print(f\"contact detail is {self.contact}\")\n",
    "        \n",
    "        \n",
    "class Class_log(Student):\n",
    "    \n",
    "    def details(self,attendance,date):\n",
    "        print(\"all the details of the student is :- \")\n",
    "        print(\"-\"*50)\n",
    "        print(f\"name ot the student is :- {self.s_name}\")\n",
    "        print(f\"father name :- {self.f_name}\")\n",
    "        print(\"-\"*50)\n",
    "        print(f\"previous background of the student is :-\")\n",
    "        print(f\"previous class :- {self.s_class}\" )\n",
    "        print(f\"current class will be :- {self.s_class + 1}\" )\n",
    "        print(f\"grade of the student :- {self.grade}\")\n",
    "        print(f\"percentage of previous class :- {self.percentage}\")\n",
    "        print(\"-\"*50)\n",
    "        print(\"detail of the student is :- \")\n",
    "        print(f\"age of the student is :- {self.age}\")\n",
    "        print(f\"date of the birth is :- {self.dob}\")\n",
    "        print(f\"contact detail is {self.contact}\")\n",
    "        print(\"-\"*50)\n",
    "        print(\"attandance details :-\")\n",
    "        self.attendance = attendance\n",
    "        print(f\"current attendance of the student is :- {self.attendance}\")\n",
    "        self.date = date\n",
    "        print(f\"date of update :- {self.date}\")\n",
    "        self.mylist = [self.attendance,self.date]\n",
    "        print(self.mylist)\n",
    "        \n",
    "    def update_attendance(self,update_attendance,date_update):\n",
    "        self.update_attendance = update_attendance\n",
    "        self.date_update = date_update\n",
    "        l = [self.update_attendance,self.date_update]\n",
    "        self.mylist.extend(l)\n",
    "        print(self.mylist)"
   ]
  },
  {
   "cell_type": "code",
   "execution_count": 427,
   "id": "30f438c3",
   "metadata": {},
   "outputs": [],
   "source": [
    "s = Student(\"dev\",\"dilip\",percentage=50,s_class=11)"
   ]
  },
  {
   "cell_type": "code",
   "execution_count": 428,
   "id": "277002e9",
   "metadata": {},
   "outputs": [
    {
     "name": "stdout",
     "output_type": "stream",
     "text": [
      "all the details of the student is :- \n",
      "--------------------------------------------------\n",
      "name ot the student is :- dev\n",
      "father name :- dilip\n",
      "--------------------------------------------------\n",
      "previous background of the student is :-\n",
      "previous class :- 11\n",
      "current class will be :- 12\n",
      "grade of the student :- A+\n",
      "percentage of previous class :- 50\n",
      "--------------------------------------------------\n",
      "detail of the student is :- \n",
      "age of the student is :- 25\n",
      "date of the birth is :- 0.0023356690023356693\n",
      "contact detail is 8435343811\n"
     ]
    }
   ],
   "source": [
    "s.addmission(25,14/3/1998,\"A+\",8435343811,11)"
   ]
  },
  {
   "cell_type": "code",
   "execution_count": 429,
   "id": "49e8c734",
   "metadata": {},
   "outputs": [],
   "source": [
    "c = Class_log(\"dev\",\"dilip\",percentage=50,s_class=10)"
   ]
  },
  {
   "cell_type": "code",
   "execution_count": 430,
   "id": "d5d860a3",
   "metadata": {},
   "outputs": [
    {
     "name": "stdout",
     "output_type": "stream",
     "text": [
      "all the details of the student is :- \n",
      "--------------------------------------------------\n",
      "name ot the student is :- dev\n",
      "father name :- dilip\n",
      "--------------------------------------------------\n",
      "previous background of the student is :-\n",
      "previous class :- 10\n",
      "current class will be :- 11\n",
      "grade of the student :- A+\n",
      "percentage of previous class :- 50\n",
      "--------------------------------------------------\n",
      "detail of the student is :- \n",
      "age of the student is :- 25\n",
      "date of the birth is :- 0.0023356690023356693\n",
      "contact detail is 8435343811\n"
     ]
    }
   ],
   "source": [
    "c.addmission(25,14/3/1998,\"A+\",8435343811,11)"
   ]
  },
  {
   "cell_type": "code",
   "execution_count": 431,
   "id": "255dec67",
   "metadata": {},
   "outputs": [
    {
     "name": "stdout",
     "output_type": "stream",
     "text": [
      "all the details of the student is :- \n",
      "--------------------------------------------------\n",
      "name ot the student is :- dev\n",
      "father name :- dilip\n",
      "--------------------------------------------------\n",
      "previous background of the student is :-\n",
      "previous class :- 10\n",
      "current class will be :- 11\n",
      "grade of the student :- A+\n",
      "percentage of previous class :- 50\n",
      "--------------------------------------------------\n",
      "detail of the student is :- \n",
      "age of the student is :- 25\n",
      "date of the birth is :- 0.0023356690023356693\n",
      "contact detail is 8435343811\n",
      "--------------------------------------------------\n",
      "attandance details :-\n",
      "current attendance of the student is :- 55\n",
      "date of update :- 0.0005492393035645631\n",
      "[55, 0.0005492393035645631]\n"
     ]
    }
   ],
   "source": [
    "c.details(55,10/9/2023)"
   ]
  },
  {
   "cell_type": "code",
   "execution_count": 432,
   "id": "fa67da06",
   "metadata": {},
   "outputs": [
    {
     "name": "stdout",
     "output_type": "stream",
     "text": [
      "[55, 0.0005492393035645631, 75, 0.0006188118811881188]\n"
     ]
    }
   ],
   "source": [
    "c.update_attendance(75,10/8/2020)"
   ]
  },
  {
   "cell_type": "code",
   "execution_count": null,
   "id": "c21faa3a",
   "metadata": {},
   "outputs": [],
   "source": []
  },
  {
   "cell_type": "code",
   "execution_count": null,
   "id": "4b907f86",
   "metadata": {},
   "outputs": [],
   "source": []
  }
 ],
 "metadata": {
  "kernelspec": {
   "display_name": "Python 3 (ipykernel)",
   "language": "python",
   "name": "python3"
  },
  "language_info": {
   "codemirror_mode": {
    "name": "ipython",
    "version": 3
   },
   "file_extension": ".py",
   "mimetype": "text/x-python",
   "name": "python",
   "nbconvert_exporter": "python",
   "pygments_lexer": "ipython3",
   "version": "3.9.12"
  }
 },
 "nbformat": 4,
 "nbformat_minor": 5
}
